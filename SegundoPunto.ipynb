{
 "cells": [
  {
   "cell_type": "markdown",
   "metadata": {},
   "source": [
    "1."
   ]
  },
  {
   "cell_type": "markdown",
   "metadata": {},
   "source": [
    "Una heurística es una función tal que dado un nodo devuelva el coste estimado del camino más barato desde dado nodo hasta el objetivo. En el caso del problema del laberinto, como toda acción de un nodo a un nodo adyacente a este mismo es de costo (1), la función heurística también se podría ver como la distancia más corta desde el nodo al objetivo.\n",
    "\n",
    "Consideremos que para todo nodo n se tienen las coordenadas (y,x), y en particular consideremos las coordenadas del nodo objetivo como (a,b), siendo y,x,a,b numeros naturales, asi:\n",
    "\n",
    "        h(n) = (a-y)+(b-x)\n",
    "        \n",
    "Esta heuristica es posible gracias a que en nuestro caso el nodo objetivo siempre se encontrara en la esquina inferior izquierda del laberinto, así para cualquier nodo esta función representará el número minimo de movimientos que se tendrian que hacer en un entorno sin muros para llegar desde ese nodo al nodo objetivo. Esta función ayuda a la resolución más rápida del laberinto puesto que al momento de expandir un nodo podemos elegir el más cercano a la solución, evitando así tener que expandir nodos en las lejanías de este que en otro caso solo abarrotarían la memoria."
   ]
  },
  {
   "cell_type": "markdown",
   "metadata": {},
   "source": [
    "2."
   ]
  },
  {
   "cell_type": "markdown",
   "metadata": {},
   "source": []
  },
  {
   "cell_type": "markdown",
   "metadata": {},
   "source": [
    "3."
   ]
  },
  {
   "cell_type": "markdown",
   "metadata": {},
   "source": [
    "El algoritmo A* es un algoritmo de búsqueda informada basado en el best-first search, pero con la siguiente función:\n",
    "\n",
    "        f(n) = g(n)+h(n)\n",
    "\n",
    "Donde g(n) será el costo acumulado hasta el nodo y h(n) será una función heurística. Así a diferencia del greedy que solo evalúa la función heurística y tomará el más cercano al objetivo. El A* tomará primero el que no solo está cerca al objetivo sino que también tenga un coste acumulado pequeño, evitando evaluar nodos con costes en extremo altos.\n",
    "\n",
    "Podremos considerar f(n) como el costo estimado del mejor camino que continua de n hasta el objetivo. "
   ]
  },
  {
   "cell_type": "markdown",
   "metadata": {},
   "source": [
    "4."
   ]
  },
  {
   "cell_type": "markdown",
   "metadata": {},
   "source": [
    "Una heurística admisible es optimista, es decir, nunca sobreestimará el costo del posible camino hasta el objetivo. Esto puesto que si lo hiciera seria posible expandir un nodo que no llevara al camino optimo. Probemos que A* con una heurística admisible siempre devuelve el camino optimo.\n",
    "Demostremos esto por contradicción, así supongamos que la función A* nos devolvió un camino con coste C, pero existe otro camino con costo C’, tal que C’< C. Por esto se puede suponer que hay un nodo n que lleva al camino más optimo, pero que no fue expandido por el algoritmo. Tomaremos g’(n) como el costo del camino optimo hasta n y h’(n) como el costo del camino optimo de n hasta el objetivo, así C’=g’(n)+h’(n) y analicemos las siguientes desigualdades:\n",
    "\n",
    "    f(n) > C’\t\t\t    Puesto que si fuera de otra manera el nodo n si hubiera sido expandido\n",
    "    f(n) = g(n)+h(n)\t\tAsí esta definida f(n)\n",
    "    f(n) = g’(n)+h(n)\t\tComo n esta un camino optimo, su costo acumulado sera el costo optimo\n",
    "    f(n)<=g’(n)+h’(n) \t    h(n)<=h’(n) puesto que h(n) es admisible y no sobreestima.\n",
    "    f(n)<=C’\t\t\t    Por definición de C’\n",
    "    \n",
    "Así la primera y ultima linea se contradicen, por lo que hemos demostrado que para una heuristica admisible h(n), A* siempre encontrará el camino más optimo.\n"
   ]
  },
  {
   "cell_type": "markdown",
   "metadata": {},
   "source": [
    "5."
   ]
  }
 ],
 "metadata": {
  "kernelspec": {
   "display_name": "Python 3.10.7 64-bit (microsoft store)",
   "language": "python",
   "name": "python3"
  },
  "language_info": {
   "name": "python",
   "version": "3.10.7"
  },
  "orig_nbformat": 4,
  "vscode": {
   "interpreter": {
    "hash": "aa38ca2d4ac5334f8facb9127846041594939b57ea42b4afe5d7eb655aac64f1"
   }
  }
 },
 "nbformat": 4,
 "nbformat_minor": 2
}
